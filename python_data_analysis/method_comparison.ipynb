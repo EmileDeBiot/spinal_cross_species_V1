{
 "cells": [
  {
   "cell_type": "code",
   "execution_count": 2,
   "metadata": {},
   "outputs": [],
   "source": [
    "import scanpy as sc\n",
    "import pandas as pd\n",
    "import numpy as np\n",
    "import matplotlib.pyplot as plt"
   ]
  },
  {
   "cell_type": "code",
   "execution_count": 3,
   "metadata": {},
   "outputs": [],
   "source": [
    "# Load prediction with allgenes\n",
    "xgb_allgenes = sc.read_h5ad('human_neurons_annotated_xgb_allgenes.h5ad')\n",
    "\n",
    "# Load rpca + svm classifier \n",
    "xgb_rpca = sc.read_h5ad('human_neurons_annotated_xgb_rpcaembeddings.h5ad')"
   ]
  },
  {
   "cell_type": "code",
   "execution_count": 4,
   "metadata": {},
   "outputs": [
    {
     "data": {
      "text/plain": [
       "AnnData object with n_obs × n_vars = 18157 × 2000\n",
       "    obs: 'orig.ident', 'nCount_RNA', 'nFeature_RNA', 'species', 'RNA_snn_res.2', 'seurat_clusters', 'training_labels', 'labels_xgb', 'annotation', 'predicted_labels_xgb', 'predicted_labels_svm', 'predicted_labels_knn', 'predicted_annotation'\n",
       "    var: 'vf_vst_counts.BOUV5_mean', 'vf_vst_counts.BOUV5_variance', 'vf_vst_counts.BOUV5_variance.expected', 'vf_vst_counts.BOUV5_variance.standardized', 'vf_vst_counts.BOUV5_variable', 'vf_vst_counts.BOUV5_rank', 'vf_vst_counts.KNAF3_mean', 'vf_vst_counts.KNAF3_variance', 'vf_vst_counts.KNAF3_variance.expected', 'vf_vst_counts.KNAF3_variance.standardized', 'vf_vst_counts.KNAF3_variable', 'vf_vst_counts.KNAF3_rank', 'vf_vst_counts.KNAF4_mean', 'vf_vst_counts.KNAF4_variance', 'vf_vst_counts.KNAF4_variance.expected', 'vf_vst_counts.KNAF4_variance.standardized', 'vf_vst_counts.KNAF4_variable', 'vf_vst_counts.KNAF4_rank', 'vf_vst_counts.BOUV6_mean', 'vf_vst_counts.BOUV6_variance', 'vf_vst_counts.BOUV6_variance.expected', 'vf_vst_counts.BOUV6_variance.standardized', 'vf_vst_counts.BOUV6_variable', 'vf_vst_counts.BOUV6_rank', 'vf_vst_counts.BOUV7_mean', 'vf_vst_counts.BOUV7_variance', 'vf_vst_counts.BOUV7_variance.expected', 'vf_vst_counts.BOUV7_variance.standardized', 'vf_vst_counts.BOUV7_variable', 'vf_vst_counts.BOUV7_rank', 'vf_vst_counts.BOUV8_mean', 'vf_vst_counts.BOUV8_variance', 'vf_vst_counts.BOUV8_variance.expected', 'vf_vst_counts.BOUV8_variance.standardized', 'vf_vst_counts.BOUV8_variable', 'vf_vst_counts.BOUV8_rank', 'vf_vst_counts.BOUV9_mean', 'vf_vst_counts.BOUV9_variance', 'vf_vst_counts.BOUV9_variance.expected', 'vf_vst_counts.BOUV9_variance.standardized', 'vf_vst_counts.BOUV9_variable', 'vf_vst_counts.BOUV9_rank', 'vf_vst_counts.KNAF8_mean', 'vf_vst_counts.KNAF8_variance', 'vf_vst_counts.KNAF8_variance.expected', 'vf_vst_counts.KNAF8_variance.standardized', 'vf_vst_counts.KNAF8_variable', 'vf_vst_counts.KNAF8_rank', 'vf_vst_counts.KNAF9_mean', 'vf_vst_counts.KNAF9_variance', 'vf_vst_counts.KNAF9_variance.expected', 'vf_vst_counts.KNAF9_variance.standardized', 'vf_vst_counts.KNAF9_variable', 'vf_vst_counts.KNAF9_rank', 'vf_vst_counts.KNAF10_mean', 'vf_vst_counts.KNAF10_variance', 'vf_vst_counts.KNAF10_variance.expected', 'vf_vst_counts.KNAF10_variance.standardized', 'vf_vst_counts.KNAF10_variable', 'vf_vst_counts.KNAF10_rank', 'vf_vst_counts.KNAF11_mean', 'vf_vst_counts.KNAF11_variance', 'vf_vst_counts.KNAF11_variance.expected', 'vf_vst_counts.KNAF11_variance.standardized', 'vf_vst_counts.KNAF11_variable', 'vf_vst_counts.KNAF11_rank', 'var.features', 'var.features.rank'\n",
       "    uns: 'annotation_colors', 'neighbors', 'orig.ident_colors', 'predicted_annotation_colors', 'species_colors', 'training_labels_colors'\n",
       "    obsm: 'X_pca', 'X_rpca', 'X_umap.rpca'\n",
       "    varm: 'PCs', 'RPCA'\n",
       "    obsp: 'distances'"
      ]
     },
     "execution_count": 4,
     "metadata": {},
     "output_type": "execute_result"
    }
   ],
   "source": [
    "xgb_allgenes"
   ]
  },
  {
   "cell_type": "code",
   "execution_count": 5,
   "metadata": {},
   "outputs": [
    {
     "data": {
      "text/plain": [
       "AnnData object with n_obs × n_vars = 18157 × 2000\n",
       "    obs: 'orig.ident', 'nCount_RNA', 'nFeature_RNA', 'species', 'RNA_snn_res.2', 'seurat_clusters', 'training_labels', 'labels_xgb', 'annotation', 'predicted_labels_xgb', 'predicted_labels_svm', 'predicted_labels_knn', 'predicted_annotation'\n",
       "    var: 'vf_vst_counts.BOUV5_mean', 'vf_vst_counts.BOUV5_variance', 'vf_vst_counts.BOUV5_variance.expected', 'vf_vst_counts.BOUV5_variance.standardized', 'vf_vst_counts.BOUV5_variable', 'vf_vst_counts.BOUV5_rank', 'vf_vst_counts.KNAF3_mean', 'vf_vst_counts.KNAF3_variance', 'vf_vst_counts.KNAF3_variance.expected', 'vf_vst_counts.KNAF3_variance.standardized', 'vf_vst_counts.KNAF3_variable', 'vf_vst_counts.KNAF3_rank', 'vf_vst_counts.KNAF4_mean', 'vf_vst_counts.KNAF4_variance', 'vf_vst_counts.KNAF4_variance.expected', 'vf_vst_counts.KNAF4_variance.standardized', 'vf_vst_counts.KNAF4_variable', 'vf_vst_counts.KNAF4_rank', 'vf_vst_counts.BOUV6_mean', 'vf_vst_counts.BOUV6_variance', 'vf_vst_counts.BOUV6_variance.expected', 'vf_vst_counts.BOUV6_variance.standardized', 'vf_vst_counts.BOUV6_variable', 'vf_vst_counts.BOUV6_rank', 'vf_vst_counts.BOUV7_mean', 'vf_vst_counts.BOUV7_variance', 'vf_vst_counts.BOUV7_variance.expected', 'vf_vst_counts.BOUV7_variance.standardized', 'vf_vst_counts.BOUV7_variable', 'vf_vst_counts.BOUV7_rank', 'vf_vst_counts.BOUV8_mean', 'vf_vst_counts.BOUV8_variance', 'vf_vst_counts.BOUV8_variance.expected', 'vf_vst_counts.BOUV8_variance.standardized', 'vf_vst_counts.BOUV8_variable', 'vf_vst_counts.BOUV8_rank', 'vf_vst_counts.BOUV9_mean', 'vf_vst_counts.BOUV9_variance', 'vf_vst_counts.BOUV9_variance.expected', 'vf_vst_counts.BOUV9_variance.standardized', 'vf_vst_counts.BOUV9_variable', 'vf_vst_counts.BOUV9_rank', 'vf_vst_counts.KNAF8_mean', 'vf_vst_counts.KNAF8_variance', 'vf_vst_counts.KNAF8_variance.expected', 'vf_vst_counts.KNAF8_variance.standardized', 'vf_vst_counts.KNAF8_variable', 'vf_vst_counts.KNAF8_rank', 'vf_vst_counts.KNAF9_mean', 'vf_vst_counts.KNAF9_variance', 'vf_vst_counts.KNAF9_variance.expected', 'vf_vst_counts.KNAF9_variance.standardized', 'vf_vst_counts.KNAF9_variable', 'vf_vst_counts.KNAF9_rank', 'vf_vst_counts.KNAF10_mean', 'vf_vst_counts.KNAF10_variance', 'vf_vst_counts.KNAF10_variance.expected', 'vf_vst_counts.KNAF10_variance.standardized', 'vf_vst_counts.KNAF10_variable', 'vf_vst_counts.KNAF10_rank', 'vf_vst_counts.KNAF11_mean', 'vf_vst_counts.KNAF11_variance', 'vf_vst_counts.KNAF11_variance.expected', 'vf_vst_counts.KNAF11_variance.standardized', 'vf_vst_counts.KNAF11_variable', 'vf_vst_counts.KNAF11_rank', 'var.features', 'var.features.rank'\n",
       "    uns: 'annotation_colors', 'neighbors', 'orig.ident_colors', 'predicted_annotation_colors', 'species_colors', 'training_labels_colors'\n",
       "    obsm: 'X_pca', 'X_rpca', 'X_umap.rpca'\n",
       "    varm: 'PCs', 'RPCA'\n",
       "    obsp: 'distances'"
      ]
     },
     "execution_count": 5,
     "metadata": {},
     "output_type": "execute_result"
    }
   ],
   "source": [
    "xgb_rpca"
   ]
  },
  {
   "cell_type": "code",
   "execution_count": 6,
   "metadata": {},
   "outputs": [],
   "source": [
    "# Compare predictions\n",
    "\n",
    "xgb_rpca_labels = xgb_rpca[xgb_rpca.obs['species'] == 'human'].obs['predicted_labels_xgb']\n",
    "xgb_allgenes_labels = xgb_allgenes[xgb_allgenes.obs['species'] == 'human'].obs['predicted_labels_xgb']"
   ]
  },
  {
   "cell_type": "code",
   "execution_count": 7,
   "metadata": {},
   "outputs": [
    {
     "name": "stdout",
     "output_type": "stream",
     "text": [
      "accuracy:  0.9422565422565422\n",
      "f1_score:  0.011747430249632892\n"
     ]
    }
   ],
   "source": [
    "from sklearn.metrics import accuracy_score\n",
    "from sklearn.metrics import f1_score\n",
    "\n",
    "print('accuracy: ', accuracy_score(xgb_allgenes_labels, xgb_rpca_labels))\n",
    "print('f1_score: ', f1_score(xgb_allgenes_labels, xgb_rpca_labels))"
   ]
  },
  {
   "cell_type": "code",
   "execution_count": 8,
   "metadata": {},
   "outputs": [],
   "source": [
    "from sklearn.metrics import confusion_matrix\n",
    "\n",
    "tn, fp, fn, tp = confusion_matrix(xgb_allgenes_labels, xgb_rpca_labels).ravel()"
   ]
  },
  {
   "cell_type": "code",
   "execution_count": 9,
   "metadata": {},
   "outputs": [
    {
     "name": "stdout",
     "output_type": "stream",
     "text": [
      "En considérant le modèle all_genes comme la ground truth:\n",
      "True Negative:  10978\n",
      "False Positive:  581\n",
      "False Negative:  92\n",
      "True Positive:  4\n"
     ]
    }
   ],
   "source": [
    "print('En considérant le modèle all_genes comme la ground truth:')\n",
    "print('True Negative: ', tn)\n",
    "print('False Positive: ', fp)\n",
    "print('False Negative: ', fn)\n",
    "print('True Positive: ', tp)"
   ]
  },
  {
   "cell_type": "code",
   "execution_count": 23,
   "metadata": {},
   "outputs": [],
   "source": [
    "tn, fp, fn, tp = confusion_matrix(xgb_rpca_labels, xgb_allgenes_labels ).ravel()"
   ]
  },
  {
   "cell_type": "code",
   "execution_count": 24,
   "metadata": {},
   "outputs": [
    {
     "name": "stdout",
     "output_type": "stream",
     "text": [
      "True Negative:  10978\n",
      "False Positive:  92\n",
      "False Negative:  581\n",
      "True Positive:  4\n"
     ]
    }
   ],
   "source": [
    "print('True Negative: ', tn)\n",
    "print('False Positive: ', fp)\n",
    "print('False Negative: ', fn)\n",
    "print('True Positive: ', tp)"
   ]
  },
  {
   "cell_type": "code",
   "execution_count": null,
   "metadata": {},
   "outputs": [],
   "source": []
  }
 ],
 "metadata": {
  "kernelspec": {
   "display_name": "Python 3",
   "language": "python",
   "name": "python3"
  },
  "language_info": {
   "codemirror_mode": {
    "name": "ipython",
    "version": 3
   },
   "file_extension": ".py",
   "mimetype": "text/x-python",
   "name": "python",
   "nbconvert_exporter": "python",
   "pygments_lexer": "ipython3",
   "version": "3.13.2"
  }
 },
 "nbformat": 4,
 "nbformat_minor": 2
}
